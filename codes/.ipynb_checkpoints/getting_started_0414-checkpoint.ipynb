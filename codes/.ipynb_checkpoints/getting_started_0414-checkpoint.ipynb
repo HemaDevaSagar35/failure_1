{
 "cells": [
  {
   "cell_type": "raw",
   "metadata": {},
   "source": [
    "# '''\n",
    "Items for jigsaw.\n",
    "\n",
    "Initial ideas which we can implement for jigsaw.\n",
    "1. Can we use language model (pretrained on wiki 103 or something), and fine tune to this specific corpes. After which the \n",
    "obtained language model is can be further trained to assess the toxicity probability?\n",
    "\n",
    "Note: 1)There is utils folder in the branch which is used to archive reusable codes and we can just import them.\n",
    "      2) Create a new branch on your local machine and then do stuff, once we agree on things then we can push them to git      master branch\n",
    "'''"
   ]
  },
  {
   "cell_type": "code",
   "execution_count": 1,
   "metadata": {},
   "outputs": [],
   "source": [
    "import pandas as pd\n",
    "import numpy as np\n",
    "import random"
   ]
  }
 ],
 "metadata": {
  "kernelspec": {
   "display_name": "Python 3",
   "language": "python",
   "name": "python3"
  },
  "language_info": {
   "codemirror_mode": {
    "name": "ipython",
    "version": 3
   },
   "file_extension": ".py",
   "mimetype": "text/x-python",
   "name": "python",
   "nbconvert_exporter": "python",
   "pygments_lexer": "ipython3",
   "version": "3.6.4"
  }
 },
 "nbformat": 4,
 "nbformat_minor": 2
}
